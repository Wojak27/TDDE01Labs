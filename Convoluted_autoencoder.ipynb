{
  "nbformat": 4,
  "nbformat_minor": 0,
  "metadata": {
    "kernelspec": {
      "name": "python3",
      "display_name": "Python 3"
    },
    "language_info": {
      "codemirror_mode": {
        "name": "ipython",
        "version": 3
      },
      "file_extension": ".py",
      "mimetype": "text/x-python",
      "name": "python",
      "nbconvert_exporter": "python",
      "pygments_lexer": "ipython3",
      "version": "3.7.3"
    },
    "colab": {
      "name": "Convoluted autoencoder.ipynb",
      "provenance": [],
      "include_colab_link": true
    },
    "accelerator": "GPU"
  },
  "cells": [
    {
      "cell_type": "markdown",
      "metadata": {
        "id": "view-in-github",
        "colab_type": "text"
      },
      "source": [
        "<a href=\"https://colab.research.google.com/github/Wojak27/TDDE01Labs/blob/master/Convoluted_autoencoder.ipynb\" target=\"_parent\"><img src=\"https://colab.research.google.com/assets/colab-badge.svg\" alt=\"Open In Colab\"/></a>"
      ]
    },
    {
      "cell_type": "code",
      "metadata": {
        "id": "Jy9tQ_RJUPOD",
        "colab_type": "code",
        "colab": {}
      },
      "source": [
        "import tensorflow as tf\n",
        "import numpy as np\n",
        "import matplotlib.pyplot as plt"
      ],
      "execution_count": 0,
      "outputs": []
    },
    {
      "cell_type": "code",
      "metadata": {
        "id": "D3JSNTb8QNKe",
        "colab_type": "code",
        "outputId": "fcf0e969-c7ac-4064-affd-f73af88d4228",
        "colab": {
          "base_uri": "https://localhost:8080/",
          "height": 419
        }
      },
      "source": [
        "from tensorflow.examples.tutorials.mnist import input_data\n",
        "mnist = input_data.read_data_sets(\"MNIST_data/\", one_hot=True)"
      ],
      "execution_count": 0,
      "outputs": [
        {
          "output_type": "stream",
          "text": [
            "WARNING:tensorflow:From <ipython-input-2-8bf8ae5a5303>:2: read_data_sets (from tensorflow.contrib.learn.python.learn.datasets.mnist) is deprecated and will be removed in a future version.\n",
            "Instructions for updating:\n",
            "Please use alternatives such as official/mnist/dataset.py from tensorflow/models.\n",
            "WARNING:tensorflow:From /usr/local/lib/python3.6/dist-packages/tensorflow_core/contrib/learn/python/learn/datasets/mnist.py:260: maybe_download (from tensorflow.contrib.learn.python.learn.datasets.base) is deprecated and will be removed in a future version.\n",
            "Instructions for updating:\n",
            "Please write your own downloading logic.\n",
            "WARNING:tensorflow:From /usr/local/lib/python3.6/dist-packages/tensorflow_core/contrib/learn/python/learn/datasets/mnist.py:262: extract_images (from tensorflow.contrib.learn.python.learn.datasets.mnist) is deprecated and will be removed in a future version.\n",
            "Instructions for updating:\n",
            "Please use tf.data to implement this functionality.\n",
            "Extracting MNIST_data/train-images-idx3-ubyte.gz\n",
            "WARNING:tensorflow:From /usr/local/lib/python3.6/dist-packages/tensorflow_core/contrib/learn/python/learn/datasets/mnist.py:267: extract_labels (from tensorflow.contrib.learn.python.learn.datasets.mnist) is deprecated and will be removed in a future version.\n",
            "Instructions for updating:\n",
            "Please use tf.data to implement this functionality.\n",
            "Extracting MNIST_data/train-labels-idx1-ubyte.gz\n",
            "WARNING:tensorflow:From /usr/local/lib/python3.6/dist-packages/tensorflow_core/contrib/learn/python/learn/datasets/mnist.py:110: dense_to_one_hot (from tensorflow.contrib.learn.python.learn.datasets.mnist) is deprecated and will be removed in a future version.\n",
            "Instructions for updating:\n",
            "Please use tf.one_hot on tensors.\n",
            "Extracting MNIST_data/t10k-images-idx3-ubyte.gz\n",
            "Extracting MNIST_data/t10k-labels-idx1-ubyte.gz\n",
            "WARNING:tensorflow:From /usr/local/lib/python3.6/dist-packages/tensorflow_core/contrib/learn/python/learn/datasets/mnist.py:290: DataSet.__init__ (from tensorflow.contrib.learn.python.learn.datasets.mnist) is deprecated and will be removed in a future version.\n",
            "Instructions for updating:\n",
            "Please use alternatives such as official/mnist/dataset.py from tensorflow/models.\n"
          ],
          "name": "stdout"
        }
      ]
    },
    {
      "cell_type": "markdown",
      "metadata": {
        "id": "D5iibuRjQAn9",
        "colab_type": "text"
      },
      "source": [
        "# How will we create noise in the picture?\n",
        "This is pretty simple, we will sprinkle them with some salt and peppar!"
      ]
    },
    {
      "cell_type": "code",
      "metadata": {
        "id": "ZX2cH7HkQHtj",
        "colab_type": "code",
        "outputId": "58bd332c-38fb-42a1-85ac-8d3786438362",
        "colab": {
          "base_uri": "https://localhost:8080/",
          "height": 304
        }
      },
      "source": [
        "# check noisinig function\n",
        "# print(np.ndim(image))\n",
        "img = mnist.train.next_batch(1)[0]\n",
        "print(np.ndim(img))\n",
        "plt.imshow(np.reshape(img, (28,28)))"
      ],
      "execution_count": 0,
      "outputs": [
        {
          "output_type": "stream",
          "text": [
            "2\n"
          ],
          "name": "stdout"
        },
        {
          "output_type": "execute_result",
          "data": {
            "text/plain": [
              "<matplotlib.image.AxesImage at 0x7efe432c0438>"
            ]
          },
          "metadata": {
            "tags": []
          },
          "execution_count": 3
        },
        {
          "output_type": "display_data",
          "data": {
            "image/png": "[encoded data removed]",
            "text/plain": [
              "<Figure size 432x288 with 1 Axes>"
            ]
          },
          "metadata": {
            "tags": []
          }
        }
      ]
    },
    {
      "cell_type": "code",
      "metadata": {
        "id": "76iv4EbOQYO-",
        "colab_type": "code",
        "colab": {}
      },
      "source": [
        "# the noising function \n",
        "def get_noisy_image(img):\n",
        "    mean = 0.0   # some constant\n",
        "    std = 0.3    # some constant (standard deviation)\n",
        "    noisy_img = img - np.random.normal(mean, std, img.shape)\n",
        "    noisy_img_clipped = np.clip(noisy_img, 0, 255)  # we might get out of bounds due to noise\n",
        "    return noisy_img_clipped"
      ],
      "execution_count": 0,
      "outputs": []
    },
    {
      "cell_type": "code",
      "metadata": {
        "id": "R1ENiDhJQgWT",
        "colab_type": "code",
        "colab": {}
      },
      "source": [
        "# the noising function helper\n",
        "def noise_images(images):\n",
        "    arr = []\n",
        "    for image in images:\n",
        "        arr.append(get_noisy_image(image))\n",
        "    return arr"
      ],
      "execution_count": 0,
      "outputs": []
    },
    {
      "cell_type": "code",
      "metadata": {
        "id": "jNLf-KJ6QmQg",
        "colab_type": "code",
        "outputId": "c2a34979-ef91-4801-ebc3-0fb67a91770e",
        "colab": {
          "base_uri": "https://localhost:8080/",
          "height": 304
        }
      },
      "source": [
        "plt.imshow(np.reshape(get_noisy_image(img), (28,28)))\n",
        "x = mnist.train.next_batch(1)[0]\n",
        "print(len(x))\n",
        "x_noisy = noise_images(x)\n",
        "print(len(x_noisy))"
      ],
      "execution_count": 0,
      "outputs": [
        {
          "output_type": "stream",
          "text": [
            "1\n",
            "1\n"
          ],
          "name": "stdout"
        },
        {
          "output_type": "display_data",
          "data": {
            "image/png": "[encoded data removed]",
            "text/plain": [
              "<Figure size 432x288 with 1 Axes>"
            ]
          },
          "metadata": {
            "tags": []
          }
        }
      ]
    },
    {
      "cell_type": "markdown",
      "metadata": {
        "id": "yFGc4wrviIsd",
        "colab_type": "text"
      },
      "source": [
        "## Create the convolution part"
      ]
    },
    {
      "cell_type": "code",
      "metadata": {
        "id": "9uezrd4_iIsm",
        "colab_type": "code",
        "colab": {}
      },
      "source": [
        "tf.reset_default_graph() # in case there are any other notebooks running"
      ],
      "execution_count": 0,
      "outputs": []
    },
    {
      "cell_type": "code",
      "metadata": {
        "id": "mXJInyTMa33F",
        "colab_type": "code",
        "colab": {}
      },
      "source": [
        "batch_size = 100"
      ],
      "execution_count": 0,
      "outputs": []
    },
    {
      "cell_type": "code",
      "metadata": {
        "id": "GgJnoixJiIs2",
        "colab_type": "code",
        "colab": {}
      },
      "source": [
        "# Helper\n",
        "#tf.executing_eagerly()\n",
        "# Init weights\n",
        "def init_weights(shape):\n",
        "    init_random_dist = tf.truncated_normal(shape,stddev=0.1)\n",
        "    return tf.Variable(init_random_dist)"
      ],
      "execution_count": 0,
      "outputs": []
    },
    {
      "cell_type": "code",
      "metadata": {
        "id": "QP74WOVKiIs7",
        "colab_type": "code",
        "colab": {}
      },
      "source": [
        "#Init bias\n",
        "def init_bias(shape):\n",
        "    init_bias_vals = tf.constant(0.1, shape=shape)\n",
        "    return tf.Variable(init_bias_vals)"
      ],
      "execution_count": 0,
      "outputs": []
    },
    {
      "cell_type": "code",
      "metadata": {
        "id": "g_4sBo-UiIs_",
        "colab_type": "code",
        "colab": {}
      },
      "source": [
        "#Conv2d\n",
        "def conv2d(x,W):\n",
        "    # x --> [batch, Height, Width, Channels]\n",
        "    # W --> [filter Height, filter Width, Channels In, Channels Out]\n",
        "    # this is a kind of a wrapper around the standard tensorflow function\n",
        "    return tf.nn.conv2d(x,W,strides=[1,1,1,1], padding = \"SAME\") #padding, one is valid and one is same"
      ],
      "execution_count": 0,
      "outputs": []
    },
    {
      "cell_type": "code",
      "metadata": {
        "id": "hmu-1u0_iItE",
        "colab_type": "code",
        "colab": {}
      },
      "source": [
        "\n",
        "# Pooling\n",
        "def max_pool_2by2(x):\n",
        "    #x -->[batch, H, W, c]\n",
        "    # ksize is the size of the window for the each dimension of the input tensor\n",
        "    # stride is the stride of the sliding widow for each dimension of the input tensor2\n",
        "    return tf.nn.max_pool(x,ksize=[1,2,2,1],strides=[1,2,2,1],padding=\"SAME\")\n"
      ],
      "execution_count": 0,
      "outputs": []
    },
    {
      "cell_type": "code",
      "metadata": {
        "id": "TvE7VOvUiItI",
        "colab_type": "code",
        "colab": {}
      },
      "source": [
        "# CONVOLUTIONAL LAYER\n",
        "def convolutional_layer(input_x, shape):\n",
        "    W = init_weights(shape)\n",
        "    b = init_bias([shape[3]])\n",
        "    return tf.nn.relu(tf.add(conv2d(input_x,W),b)) "
      ],
      "execution_count": 0,
      "outputs": []
    },
    {
      "cell_type": "code",
      "metadata": {
        "id": "LqJFQv_YiItN",
        "colab_type": "code",
        "colab": {}
      },
      "source": [
        "# Normal layer (fully connected)\n",
        "def normal_full_layer(input_layer, size):\n",
        "    input_size = int(input_layer.get_shape()[1])\n",
        "    W = init_weights([input_size,size])\n",
        "    b = init_bias([size])\n",
        "    return tf.matmul(input_layer,W)+b"
      ],
      "execution_count": 0,
      "outputs": []
    },
    {
      "cell_type": "code",
      "metadata": {
        "id": "cfq3eLkn_wph",
        "colab_type": "code",
        "colab": {}
      },
      "source": [
        "# Deconvolutional layer upskales the image so that he output will be \n",
        "# batch_size = batch_size\n",
        "# output_width = input_width*2,\n",
        "# output_height = input_height*2 \n",
        "# channels = input_channels/2 \n",
        "\n",
        "def deconv2d(input, out_shape, name=\"deconv2d\"):\n",
        "    strides=[1, 4, 4, 1]\n",
        "    input_shape = input.get_shape().as_list()\n",
        "    with tf.variable_scope(name) as scope:\n",
        "        W1_1 = tf.get_variable(\"w\", [5,5, out_shape[-1], input_shape[-1]],\n",
        "                            initializer=tf.random_normal_initializer(stddev=0.02))\n",
        "        \n",
        "        dyn_input_shape = tf.shape(input)\n",
        "        batch_size = dyn_input_shape[0]\n",
        "\n",
        "        output_shape = tf.stack([batch_size, out_shape[1], out_shape[2], out_shape[3]])\n",
        "    \n",
        "        output = tf.nn.conv2d_transpose(input, W1_1, output_shape, strides, padding=\"SAME\")\n",
        "\n",
        "        return output"
      ],
      "execution_count": 0,
      "outputs": []
    },
    {
      "cell_type": "code",
      "metadata": {
        "id": "oyGdItJjiItW",
        "colab_type": "code",
        "colab": {}
      },
      "source": [
        "# Paceholder\n",
        "x = tf.placeholder(tf.float32, shape=[None,784])"
      ],
      "execution_count": 0,
      "outputs": []
    },
    {
      "cell_type": "code",
      "metadata": {
        "id": "2PXH5e5JiIta",
        "colab_type": "code",
        "outputId": "849b6416-abc8-473b-bfd7-ec55c6078b50",
        "colab": {
          "base_uri": "https://localhost:8080/",
          "height": 34
        }
      },
      "source": [
        "# Layers\n",
        "x_image = tf.reshape(x,[-1,28,28,1])\n",
        "x.get_shape()"
      ],
      "execution_count": 0,
      "outputs": [
        {
          "output_type": "execute_result",
          "data": {
            "text/plain": [
              "TensorShape([Dimension(None), Dimension(784)])"
            ]
          },
          "metadata": {
            "tags": []
          },
          "execution_count": 17
        }
      ]
    },
    {
      "cell_type": "code",
      "metadata": {
        "id": "r9OwFK4JiItd",
        "colab_type": "code",
        "outputId": "8a5ea7e9-9c2d-4163-dcc4-b23ad86cce80",
        "colab": {
          "base_uri": "https://localhost:8080/",
          "height": 34
        }
      },
      "source": [
        "# first convolution with 5x5 filter and pooling. Feature image size: 14x14\n",
        "# num of features 32\n",
        "convo_1 = convolutional_layer(x_image,shape=[5,5,1,32])\n",
        "convo_1_pooling = max_pool_2by2(convo_1)\n",
        "convo_1_pooling.get_shape()"
      ],
      "execution_count": 0,
      "outputs": [
        {
          "output_type": "execute_result",
          "data": {
            "text/plain": [
              "TensorShape([Dimension(None), Dimension(14), Dimension(14), Dimension(32)])"
            ]
          },
          "metadata": {
            "tags": []
          },
          "execution_count": 18
        }
      ]
    },
    {
      "cell_type": "code",
      "metadata": {
        "id": "Ap-xAk14iIth",
        "colab_type": "code",
        "outputId": "6dabbec6-305f-42df-f4bf-288848139606",
        "colab": {
          "base_uri": "https://localhost:8080/",
          "height": 34
        }
      },
      "source": [
        "# second convolution and pooling. Feature image size: 7x7\n",
        "# num of features 64\n",
        "convo_2 = convolutional_layer(convo_1_pooling, shape=[5,5,32,64])\n",
        "convo_2_pooling = max_pool_2by2(convo_2)\n",
        "convo_2_pooling.get_shape()"
      ],
      "execution_count": 0,
      "outputs": [
        {
          "output_type": "execute_result",
          "data": {
            "text/plain": [
              "TensorShape([Dimension(None), Dimension(7), Dimension(7), Dimension(64)])"
            ]
          },
          "metadata": {
            "tags": []
          },
          "execution_count": 19
        }
      ]
    },
    {
      "cell_type": "code",
      "metadata": {
        "id": "RH4EJ2xkiItk",
        "colab_type": "code",
        "outputId": "179e96b5-62e6-4d68-cb40-6ab9cd5bc724",
        "colab": {
          "base_uri": "https://localhost:8080/",
          "height": 34
        }
      },
      "source": [
        "# upsampling. Feature image size: 14x14\n",
        "# num of features 32\n",
        "convo_3_upsampling = deconv2d(convo_2_pooling, [batch_size,14,14,32], \"convo_3_upsampling\")\n",
        "convo_3_upsampling.get_shape()"
      ],
      "execution_count": 0,
      "outputs": [
        {
          "output_type": "execute_result",
          "data": {
            "text/plain": [
              "TensorShape([Dimension(None), Dimension(14), Dimension(14), Dimension(32)])"
            ]
          },
          "metadata": {
            "tags": []
          },
          "execution_count": 20
        }
      ]
    },
    {
      "cell_type": "code",
      "metadata": {
        "id": "NevOVK4LiItn",
        "colab_type": "code",
        "outputId": "a646c84c-1f7c-4492-84c3-e2ea3f4d625c",
        "colab": {
          "base_uri": "https://localhost:8080/",
          "height": 34
        }
      },
      "source": [
        "# upsampling. Feature image size: 28x28\n",
        "# num of features 1\n",
        "convo_4_upsampling = deconv2d(convo_2_pooling, [batch_size,28,28,1], \"convo_4_upsampling\")\n",
        "convo_4_upsampling.get_shape() # debug"
      ],
      "execution_count": 0,
      "outputs": [
        {
          "output_type": "execute_result",
          "data": {
            "text/plain": [
              "TensorShape([Dimension(None), Dimension(28), Dimension(28), Dimension(1)])"
            ]
          },
          "metadata": {
            "tags": []
          },
          "execution_count": 21
        }
      ]
    },
    {
      "cell_type": "code",
      "metadata": {
        "id": "PlbEzHtViItq",
        "colab_type": "code",
        "outputId": "28631d9e-654a-4cec-9a09-28a5dc51ca13",
        "colab": {
          "base_uri": "https://localhost:8080/",
          "height": 34
        }
      },
      "source": [
        "output_flattened = tf.reshape(convo_4_upsampling, [-1,28*28*1])\n",
        "output_flattened.get_shape() # debug"
      ],
      "execution_count": 0,
      "outputs": [
        {
          "output_type": "execute_result",
          "data": {
            "text/plain": [
              "TensorShape([Dimension(None), Dimension(784)])"
            ]
          },
          "metadata": {
            "tags": []
          },
          "execution_count": 22
        }
      ]
    },
    {
      "cell_type": "code",
      "metadata": {
        "id": "iaoY5lIliItt",
        "colab_type": "code",
        "colab": {}
      },
      "source": [
        "learning_rate = 0.001\n",
        "# loss function\n",
        "loss = tf.reduce_mean(tf.square(output_flattened-x))\n",
        "# Optimizer\n",
        "optimizer = tf.train.AdamOptimizer(learning_rate)\n",
        "\n",
        "# train\n",
        "train = optimizer.minimize(loss)"
      ],
      "execution_count": 0,
      "outputs": []
    },
    {
      "cell_type": "code",
      "metadata": {
        "id": "awQlp-D-iItx",
        "colab_type": "code",
        "colab": {}
      },
      "source": [
        "init = tf.global_variables_initializer()"
      ],
      "execution_count": 0,
      "outputs": []
    },
    {
      "cell_type": "code",
      "metadata": {
        "id": "Zzi4go_4iItz",
        "colab_type": "code",
        "colab": {}
      },
      "source": [
        "saver = tf.train.Saver()"
      ],
      "execution_count": 0,
      "outputs": []
    },
    {
      "cell_type": "code",
      "metadata": {
        "id": "3GU_2fIDiIt3",
        "colab_type": "code",
        "outputId": "9c07ccbc-0528-45d9-e9da-28ed2f037280",
        "colab": {
          "base_uri": "https://localhost:8080/",
          "height": 1000
        }
      },
      "source": [
        "num_epochs = 500\n",
        "\n",
        "with tf.Session() as sess:\n",
        "    sess.run(init)\n",
        "    \n",
        "    for epoch in range(num_epochs):\n",
        "        num_batches = mnist.train.num_examples // batch_size\n",
        "        \n",
        "        for iteration in range(num_batches):\n",
        "            X_batch, y_batch = mnist.train.next_batch(batch_size)\n",
        "            #sess.run(train, feed_dict = {x:X_batch}) #training on clean data\n",
        "            X_noisy_batch = noise_images(X_batch) # training on noisy data\n",
        "            sess.run(train, feed_dict = {x:X_noisy_batch}) # training on noisy data\n",
        "        training_loss = loss.eval(feed_dict={x:X_batch})\n",
        "        \n",
        "        print(\"EPOCH: {} LOSS: {}\".format(epoch, training_loss))\n",
        "        \n",
        "    saver.save(sess, \"./example_stacked_autoencoder.ckpt\")"
      ],
      "execution_count": 0,
      "outputs": [
        {
          "output_type": "stream",
          "text": [
            "EPOCH: 0 LOSS: 0.008937790989875793\n",
            "EPOCH: 1 LOSS: 0.0072655812837183475\n",
            "EPOCH: 2 LOSS: 0.006556784268468618\n",
            "EPOCH: 3 LOSS: 0.006326588802039623\n",
            "EPOCH: 4 LOSS: 0.006436093710362911\n",
            "EPOCH: 5 LOSS: 0.005854962393641472\n",
            "EPOCH: 6 LOSS: 0.0056239585392177105\n",
            "EPOCH: 7 LOSS: 0.005485684145241976\n",
            "EPOCH: 8 LOSS: 0.005545277614146471\n",
            "EPOCH: 9 LOSS: 0.005837689619511366\n",
            "EPOCH: 10 LOSS: 0.005632662680000067\n",
            "EPOCH: 11 LOSS: 0.005530489142984152\n",
            "EPOCH: 12 LOSS: 0.005874225404113531\n",
            "EPOCH: 13 LOSS: 0.005776121746748686\n",
            "EPOCH: 14 LOSS: 0.005845682695508003\n",
            "EPOCH: 15 LOSS: 0.005717509426176548\n",
            "EPOCH: 16 LOSS: 0.005878840107470751\n",
            "EPOCH: 17 LOSS: 0.006091566290706396\n",
            "EPOCH: 18 LOSS: 0.006501997355371714\n",
            "EPOCH: 19 LOSS: 0.006261600647121668\n",
            "EPOCH: 20 LOSS: 0.00647748215124011\n",
            "EPOCH: 21 LOSS: 0.006491239182651043\n",
            "EPOCH: 22 LOSS: 0.006233145482838154\n",
            "EPOCH: 23 LOSS: 0.005912859924137592\n",
            "EPOCH: 24 LOSS: 0.00622165109962225\n",
            "EPOCH: 25 LOSS: 0.006223259028047323\n",
            "EPOCH: 26 LOSS: 0.006439943797886372\n",
            "EPOCH: 27 LOSS: 0.006540236063301563\n",
            "EPOCH: 28 LOSS: 0.00667824549600482\n",
            "EPOCH: 29 LOSS: 0.006207827944308519\n",
            "EPOCH: 30 LOSS: 0.0058604213409125805\n",
            "EPOCH: 31 LOSS: 0.006339262239634991\n",
            "EPOCH: 32 LOSS: 0.006588743533939123\n",
            "EPOCH: 33 LOSS: 0.0060380310751497746\n",
            "EPOCH: 34 LOSS: 0.0062159267254173756\n",
            "EPOCH: 35 LOSS: 0.005878394469618797\n",
            "EPOCH: 36 LOSS: 0.005725178401917219\n",
            "EPOCH: 37 LOSS: 0.00593163724988699\n",
            "EPOCH: 38 LOSS: 0.006142160855233669\n",
            "EPOCH: 39 LOSS: 0.005184920970350504\n",
            "EPOCH: 40 LOSS: 0.005562465637922287\n",
            "EPOCH: 41 LOSS: 0.005981085356324911\n",
            "EPOCH: 42 LOSS: 0.006199289113283157\n",
            "EPOCH: 43 LOSS: 0.005788127426058054\n",
            "EPOCH: 44 LOSS: 0.0058431848883628845\n",
            "EPOCH: 45 LOSS: 0.005747299641370773\n",
            "EPOCH: 46 LOSS: 0.005426033865660429\n",
            "EPOCH: 47 LOSS: 0.0056455060839653015\n",
            "EPOCH: 48 LOSS: 0.0057461438700556755\n",
            "EPOCH: 49 LOSS: 0.00564059242606163\n",
            "EPOCH: 50 LOSS: 0.00582580640912056\n",
            "EPOCH: 51 LOSS: 0.006029272451996803\n",
            "EPOCH: 52 LOSS: 0.005938736256211996\n",
            "EPOCH: 53 LOSS: 0.005588911939412355\n",
            "EPOCH: 54 LOSS: 0.005599020514637232\n",
            "EPOCH: 55 LOSS: 0.005365473683923483\n",
            "EPOCH: 56 LOSS: 0.005992738530039787\n",
            "EPOCH: 57 LOSS: 0.005495991557836533\n",
            "EPOCH: 58 LOSS: 0.005313916131854057\n",
            "EPOCH: 59 LOSS: 0.005428446922451258\n",
            "EPOCH: 60 LOSS: 0.005424486938863993\n",
            "EPOCH: 61 LOSS: 0.0053268796764314175\n",
            "EPOCH: 62 LOSS: 0.005623002536594868\n",
            "EPOCH: 63 LOSS: 0.005504678003489971\n",
            "EPOCH: 64 LOSS: 0.005513479001820087\n",
            "EPOCH: 65 LOSS: 0.0053496332839131355\n",
            "EPOCH: 66 LOSS: 0.005381332710385323\n",
            "EPOCH: 67 LOSS: 0.0053083887323737144\n",
            "EPOCH: 68 LOSS: 0.005297984462231398\n",
            "EPOCH: 69 LOSS: 0.004846657160669565\n",
            "EPOCH: 70 LOSS: 0.005310616921633482\n",
            "EPOCH: 71 LOSS: 0.005163262598216534\n",
            "EPOCH: 72 LOSS: 0.005197242833673954\n",
            "EPOCH: 73 LOSS: 0.005095908883959055\n",
            "EPOCH: 74 LOSS: 0.005286452826112509\n",
            "EPOCH: 75 LOSS: 0.005200590007007122\n",
            "EPOCH: 76 LOSS: 0.005585575941950083\n",
            "EPOCH: 77 LOSS: 0.005513198208063841\n",
            "EPOCH: 78 LOSS: 0.005170364398509264\n",
            "EPOCH: 79 LOSS: 0.0054318225011229515\n",
            "EPOCH: 80 LOSS: 0.005453599616885185\n",
            "EPOCH: 81 LOSS: 0.005527763161808252\n",
            "EPOCH: 82 LOSS: 0.0050956555642187595\n",
            "EPOCH: 83 LOSS: 0.005348616279661655\n",
            "EPOCH: 84 LOSS: 0.00550431851297617\n",
            "EPOCH: 85 LOSS: 0.005448006559163332\n",
            "EPOCH: 86 LOSS: 0.005478027276694775\n",
            "EPOCH: 87 LOSS: 0.005401384551078081\n",
            "EPOCH: 88 LOSS: 0.005787551403045654\n",
            "EPOCH: 89 LOSS: 0.0048910570330917835\n",
            "EPOCH: 90 LOSS: 0.005523146595805883\n",
            "EPOCH: 91 LOSS: 0.00516932737082243\n",
            "EPOCH: 92 LOSS: 0.005209374241530895\n",
            "EPOCH: 93 LOSS: 0.005246994085609913\n",
            "EPOCH: 94 LOSS: 0.005093025043606758\n",
            "EPOCH: 95 LOSS: 0.005220646038651466\n",
            "EPOCH: 96 LOSS: 0.005409760866314173\n",
            "EPOCH: 97 LOSS: 0.004993710201233625\n",
            "EPOCH: 98 LOSS: 0.005384144838899374\n",
            "EPOCH: 99 LOSS: 0.005141811445355415\n",
            "EPOCH: 100 LOSS: 0.005340977571904659\n",
            "EPOCH: 101 LOSS: 0.005175761412829161\n",
            "EPOCH: 102 LOSS: 0.005319593008607626\n",
            "EPOCH: 103 LOSS: 0.005370353348553181\n",
            "EPOCH: 104 LOSS: 0.005245373118668795\n",
            "EPOCH: 105 LOSS: 0.004994126036763191\n",
            "EPOCH: 106 LOSS: 0.005122520495206118\n",
            "EPOCH: 107 LOSS: 0.005310148000717163\n",
            "EPOCH: 108 LOSS: 0.005091839004307985\n",
            "EPOCH: 109 LOSS: 0.005341821815818548\n",
            "EPOCH: 110 LOSS: 0.0053758216090500355\n",
            "EPOCH: 111 LOSS: 0.005355439614504576\n",
            "EPOCH: 112 LOSS: 0.0052742972038686275\n",
            "EPOCH: 113 LOSS: 0.005389997735619545\n",
            "EPOCH: 114 LOSS: 0.005265326239168644\n",
            "EPOCH: 115 LOSS: 0.005345860496163368\n",
            "EPOCH: 116 LOSS: 0.005148354452103376\n",
            "EPOCH: 117 LOSS: 0.005145871080458164\n",
            "EPOCH: 118 LOSS: 0.005364763084799051\n",
            "EPOCH: 119 LOSS: 0.005334284156560898\n",
            "EPOCH: 120 LOSS: 0.0051778326742351055\n",
            "EPOCH: 121 LOSS: 0.0053802053444087505\n",
            "EPOCH: 122 LOSS: 0.005121046677231789\n",
            "EPOCH: 123 LOSS: 0.005324946250766516\n",
            "EPOCH: 124 LOSS: 0.004768686834722757\n",
            "EPOCH: 125 LOSS: 0.005162077024579048\n",
            "EPOCH: 126 LOSS: 0.005320035386830568\n",
            "EPOCH: 127 LOSS: 0.005403056740760803\n",
            "EPOCH: 128 LOSS: 0.005192593205720186\n",
            "EPOCH: 129 LOSS: 0.005119233392179012\n",
            "EPOCH: 130 LOSS: 0.005067379213869572\n",
            "EPOCH: 131 LOSS: 0.005100172478705645\n",
            "EPOCH: 132 LOSS: 0.005234235431998968\n",
            "EPOCH: 133 LOSS: 0.005248718429356813\n",
            "EPOCH: 134 LOSS: 0.005111608654260635\n",
            "EPOCH: 135 LOSS: 0.005146091803908348\n",
            "EPOCH: 136 LOSS: 0.004770555533468723\n",
            "EPOCH: 137 LOSS: 0.005271239206194878\n",
            "EPOCH: 138 LOSS: 0.005002953112125397\n",
            "EPOCH: 139 LOSS: 0.005018333438783884\n",
            "EPOCH: 140 LOSS: 0.005232472904026508\n",
            "EPOCH: 141 LOSS: 0.0049933758564293385\n",
            "EPOCH: 142 LOSS: 0.005133290309458971\n",
            "EPOCH: 143 LOSS: 0.005246936809271574\n",
            "EPOCH: 144 LOSS: 0.005346393678337336\n",
            "EPOCH: 145 LOSS: 0.0056199487298727036\n",
            "EPOCH: 146 LOSS: 0.0049286517314612865\n",
            "EPOCH: 147 LOSS: 0.005350236780941486\n",
            "EPOCH: 148 LOSS: 0.0051467567682266235\n",
            "EPOCH: 149 LOSS: 0.005061389412730932\n",
            "EPOCH: 150 LOSS: 0.005092444363981485\n",
            "EPOCH: 151 LOSS: 0.005186221096664667\n",
            "EPOCH: 152 LOSS: 0.005354769993573427\n",
            "EPOCH: 153 LOSS: 0.0049552335403859615\n",
            "EPOCH: 154 LOSS: 0.005158596206456423\n",
            "EPOCH: 155 LOSS: 0.005613077897578478\n",
            "EPOCH: 156 LOSS: 0.005160467699170113\n",
            "EPOCH: 157 LOSS: 0.0049358862452209\n",
            "EPOCH: 158 LOSS: 0.005197157617658377\n",
            "EPOCH: 159 LOSS: 0.004978464916348457\n",
            "EPOCH: 160 LOSS: 0.005184799898415804\n",
            "EPOCH: 161 LOSS: 0.005196348764002323\n",
            "EPOCH: 162 LOSS: 0.00504255760461092\n",
            "EPOCH: 163 LOSS: 0.005131199024617672\n",
            "EPOCH: 164 LOSS: 0.004978567827492952\n",
            "EPOCH: 165 LOSS: 0.005203878507018089\n",
            "EPOCH: 166 LOSS: 0.004914273042231798\n",
            "EPOCH: 167 LOSS: 0.004940182436257601\n",
            "EPOCH: 168 LOSS: 0.004931504372507334\n",
            "EPOCH: 169 LOSS: 0.004897496197372675\n",
            "EPOCH: 170 LOSS: 0.00495015736669302\n",
            "EPOCH: 171 LOSS: 0.005330565385520458\n",
            "EPOCH: 172 LOSS: 0.005076814442873001\n",
            "EPOCH: 173 LOSS: 0.004878039471805096\n",
            "EPOCH: 174 LOSS: 0.005073573440313339\n",
            "EPOCH: 175 LOSS: 0.004910283721983433\n",
            "EPOCH: 176 LOSS: 0.0051858676597476006\n",
            "EPOCH: 177 LOSS: 0.005031802225857973\n",
            "EPOCH: 178 LOSS: 0.005047662649303675\n",
            "EPOCH: 179 LOSS: 0.004993867129087448\n",
            "EPOCH: 180 LOSS: 0.004758738446980715\n",
            "EPOCH: 181 LOSS: 0.004871576093137264\n",
            "EPOCH: 182 LOSS: 0.004914659541100264\n",
            "EPOCH: 183 LOSS: 0.004573398735374212\n",
            "EPOCH: 184 LOSS: 0.00482206791639328\n",
            "EPOCH: 185 LOSS: 0.004987936466932297\n",
            "EPOCH: 186 LOSS: 0.004678966477513313\n",
            "EPOCH: 187 LOSS: 0.0053195771761238575\n",
            "EPOCH: 188 LOSS: 0.00517723523080349\n",
            "EPOCH: 189 LOSS: 0.004989019129425287\n",
            "EPOCH: 190 LOSS: 0.004860102664679289\n",
            "EPOCH: 191 LOSS: 0.005028183106333017\n",
            "EPOCH: 192 LOSS: 0.004897360689938068\n",
            "EPOCH: 193 LOSS: 0.004870097152888775\n",
            "EPOCH: 194 LOSS: 0.004836555104702711\n",
            "EPOCH: 195 LOSS: 0.004924733657389879\n",
            "EPOCH: 196 LOSS: 0.005261234473437071\n",
            "EPOCH: 197 LOSS: 0.00492600305005908\n",
            "EPOCH: 198 LOSS: 0.005084493663161993\n",
            "EPOCH: 199 LOSS: 0.004801991395652294\n",
            "EPOCH: 200 LOSS: 0.00510648125782609\n",
            "EPOCH: 201 LOSS: 0.004803633317351341\n",
            "EPOCH: 202 LOSS: 0.005271582398563623\n",
            "EPOCH: 203 LOSS: 0.004952729679644108\n",
            "EPOCH: 204 LOSS: 0.004599347710609436\n",
            "EPOCH: 205 LOSS: 0.004975988529622555\n",
            "EPOCH: 206 LOSS: 0.004835726227611303\n",
            "EPOCH: 207 LOSS: 0.004572282079607248\n",
            "EPOCH: 208 LOSS: 0.004809888545423746\n",
            "EPOCH: 209 LOSS: 0.004896202590316534\n",
            "EPOCH: 210 LOSS: 0.0049854847602546215\n",
            "EPOCH: 211 LOSS: 0.004643178544938564\n",
            "EPOCH: 212 LOSS: 0.0048011429607868195\n",
            "EPOCH: 213 LOSS: 0.0056238118559122086\n",
            "EPOCH: 214 LOSS: 0.00470268540084362\n",
            "EPOCH: 215 LOSS: 0.004630491137504578\n",
            "EPOCH: 216 LOSS: 0.0052690645679831505\n",
            "EPOCH: 217 LOSS: 0.004665841348469257\n",
            "EPOCH: 218 LOSS: 0.0048393853940069675\n",
            "EPOCH: 219 LOSS: 0.004878124222159386\n",
            "EPOCH: 220 LOSS: 0.00469816243276\n",
            "EPOCH: 221 LOSS: 0.004941881168633699\n",
            "EPOCH: 222 LOSS: 0.004726526793092489\n",
            "EPOCH: 223 LOSS: 0.004924270324409008\n",
            "EPOCH: 224 LOSS: 0.004839978646486998\n",
            "EPOCH: 225 LOSS: 0.004811503458768129\n",
            "EPOCH: 226 LOSS: 0.004918280057609081\n",
            "EPOCH: 227 LOSS: 0.004890530835837126\n",
            "EPOCH: 228 LOSS: 0.0045751165598630905\n",
            "EPOCH: 229 LOSS: 0.00513710780069232\n",
            "EPOCH: 230 LOSS: 0.0050607118755578995\n",
            "EPOCH: 231 LOSS: 0.004512269981205463\n",
            "EPOCH: 232 LOSS: 0.0047337645664811134\n",
            "EPOCH: 233 LOSS: 0.004863223526626825\n",
            "EPOCH: 234 LOSS: 0.004947564098984003\n",
            "EPOCH: 235 LOSS: 0.00495596369728446\n",
            "EPOCH: 236 LOSS: 0.004784774966537952\n",
            "EPOCH: 237 LOSS: 0.004721796605736017\n",
            "EPOCH: 238 LOSS: 0.004771205596625805\n",
            "EPOCH: 239 LOSS: 0.005054079927504063\n",
            "EPOCH: 240 LOSS: 0.004738390911370516\n",
            "EPOCH: 241 LOSS: 0.0047091650776565075\n",
            "EPOCH: 242 LOSS: 0.004590194206684828\n",
            "EPOCH: 243 LOSS: 0.00475446879863739\n",
            "EPOCH: 244 LOSS: 0.004799148999154568\n",
            "EPOCH: 245 LOSS: 0.004795490298420191\n",
            "EPOCH: 246 LOSS: 0.004858545493334532\n",
            "EPOCH: 247 LOSS: 0.004723993595689535\n",
            "EPOCH: 248 LOSS: 0.004761506803333759\n",
            "EPOCH: 249 LOSS: 0.0047509921714663506\n",
            "EPOCH: 250 LOSS: 0.004894769750535488\n",
            "EPOCH: 251 LOSS: 0.0048494162037968636\n",
            "EPOCH: 252 LOSS: 0.005184574518352747\n",
            "EPOCH: 253 LOSS: 0.004870223347097635\n",
            "EPOCH: 254 LOSS: 0.0051697189919650555\n",
            "EPOCH: 255 LOSS: 0.004693843889981508\n",
            "EPOCH: 256 LOSS: 0.004682458005845547\n",
            "EPOCH: 257 LOSS: 0.0050793057307600975\n",
            "EPOCH: 258 LOSS: 0.004633024334907532\n",
            "EPOCH: 259 LOSS: 0.004494213964790106\n",
            "EPOCH: 260 LOSS: 0.004694715142250061\n",
            "EPOCH: 261 LOSS: 0.0047564380802214146\n",
            "EPOCH: 262 LOSS: 0.004674104042351246\n",
            "EPOCH: 263 LOSS: 0.004869637079536915\n",
            "EPOCH: 264 LOSS: 0.0048218900337815285\n",
            "EPOCH: 265 LOSS: 0.004905253183096647\n",
            "EPOCH: 266 LOSS: 0.004740436095744371\n",
            "EPOCH: 267 LOSS: 0.004797270055860281\n",
            "EPOCH: 268 LOSS: 0.0050207264721393585\n",
            "EPOCH: 269 LOSS: 0.004746057093143463\n",
            "EPOCH: 270 LOSS: 0.004926253110170364\n",
            "EPOCH: 271 LOSS: 0.004657641053199768\n",
            "EPOCH: 272 LOSS: 0.004553019534796476\n",
            "EPOCH: 273 LOSS: 0.004969934932887554\n",
            "EPOCH: 274 LOSS: 0.0045821587555110455\n",
            "EPOCH: 275 LOSS: 0.004657207988202572\n",
            "EPOCH: 276 LOSS: 0.004955206997692585\n",
            "EPOCH: 277 LOSS: 0.004761369898915291\n",
            "EPOCH: 278 LOSS: 0.004981896374374628\n",
            "EPOCH: 279 LOSS: 0.005170948337763548\n",
            "EPOCH: 280 LOSS: 0.005022252909839153\n",
            "EPOCH: 281 LOSS: 0.0048501137644052505\n",
            "EPOCH: 282 LOSS: 0.004998961463570595\n",
            "EPOCH: 283 LOSS: 0.004506146069616079\n",
            "EPOCH: 284 LOSS: 0.004898605402559042\n",
            "EPOCH: 285 LOSS: 0.005012900568544865\n",
            "EPOCH: 286 LOSS: 0.0049542393535375595\n",
            "EPOCH: 287 LOSS: 0.004474682733416557\n",
            "EPOCH: 288 LOSS: 0.004875133745372295\n",
            "EPOCH: 289 LOSS: 0.004784996155649424\n",
            "EPOCH: 290 LOSS: 0.005032768007367849\n",
            "EPOCH: 291 LOSS: 0.004629579838365316\n",
            "EPOCH: 292 LOSS: 0.004734641872346401\n",
            "EPOCH: 293 LOSS: 0.004864150192588568\n",
            "EPOCH: 294 LOSS: 0.005016994196921587\n",
            "EPOCH: 295 LOSS: 0.004453245550394058\n",
            "EPOCH: 296 LOSS: 0.004577324725687504\n",
            "EPOCH: 297 LOSS: 0.004985434003174305\n",
            "EPOCH: 298 LOSS: 0.004809556528925896\n",
            "EPOCH: 299 LOSS: 0.004889315459877253\n",
            "EPOCH: 300 LOSS: 0.004841108340770006\n",
            "EPOCH: 301 LOSS: 0.0047336663119494915\n",
            "EPOCH: 302 LOSS: 0.004449408035725355\n",
            "EPOCH: 303 LOSS: 0.0050014108419418335\n",
            "EPOCH: 304 LOSS: 0.005087766796350479\n",
            "EPOCH: 305 LOSS: 0.004564168397337198\n",
            "EPOCH: 306 LOSS: 0.004514564294368029\n",
            "EPOCH: 307 LOSS: 0.004846728406846523\n",
            "EPOCH: 308 LOSS: 0.004923427943140268\n",
            "EPOCH: 309 LOSS: 0.00457744300365448\n",
            "EPOCH: 310 LOSS: 0.005048397462815046\n",
            "EPOCH: 311 LOSS: 0.004445383790880442\n",
            "EPOCH: 312 LOSS: 0.004503901582211256\n",
            "EPOCH: 313 LOSS: 0.004973377101123333\n",
            "EPOCH: 314 LOSS: 0.0048144906759262085\n",
            "EPOCH: 315 LOSS: 0.004792389925569296\n",
            "EPOCH: 316 LOSS: 0.004724142141640186\n",
            "EPOCH: 317 LOSS: 0.004912368021905422\n",
            "EPOCH: 318 LOSS: 0.005002851597964764\n",
            "EPOCH: 319 LOSS: 0.0051720296032726765\n",
            "EPOCH: 320 LOSS: 0.004963982850313187\n",
            "EPOCH: 321 LOSS: 0.00454717967659235\n",
            "EPOCH: 322 LOSS: 0.0050307041965425014\n",
            "EPOCH: 323 LOSS: 0.004552412778139114\n",
            "EPOCH: 324 LOSS: 0.0046539874747395515\n",
            "EPOCH: 325 LOSS: 0.004488314036279917\n",
            "EPOCH: 326 LOSS: 0.004392900504171848\n",
            "EPOCH: 327 LOSS: 0.00481528090313077\n",
            "EPOCH: 328 LOSS: 0.00494411401450634\n",
            "EPOCH: 329 LOSS: 0.004695777781307697\n",
            "EPOCH: 330 LOSS: 0.0045768809504806995\n",
            "EPOCH: 331 LOSS: 0.0045278435572981834\n",
            "EPOCH: 332 LOSS: 0.005112384911626577\n",
            "EPOCH: 333 LOSS: 0.004566342104226351\n",
            "EPOCH: 334 LOSS: 0.004585842601954937\n",
            "EPOCH: 335 LOSS: 0.004909444600343704\n",
            "EPOCH: 336 LOSS: 0.004824275150895119\n",
            "EPOCH: 337 LOSS: 0.0046718236990273\n",
            "EPOCH: 338 LOSS: 0.00479656970128417\n",
            "EPOCH: 339 LOSS: 0.004458238836377859\n",
            "EPOCH: 340 LOSS: 0.004826265852898359\n",
            "EPOCH: 341 LOSS: 0.004855061881244183\n",
            "EPOCH: 342 LOSS: 0.004790138453245163\n",
            "EPOCH: 343 LOSS: 0.004715091083198786\n",
            "EPOCH: 344 LOSS: 0.004791538696736097\n",
            "EPOCH: 345 LOSS: 0.004718058276921511\n",
            "EPOCH: 346 LOSS: 0.004763193894177675\n",
            "EPOCH: 347 LOSS: 0.004753391724079847\n",
            "EPOCH: 348 LOSS: 0.004734317306429148\n",
            "EPOCH: 349 LOSS: 0.004785782191902399\n",
            "EPOCH: 350 LOSS: 0.0045897033996880054\n",
            "EPOCH: 351 LOSS: 0.004776662215590477\n",
            "EPOCH: 352 LOSS: 0.004902868065983057\n",
            "EPOCH: 353 LOSS: 0.004481910262256861\n",
            "EPOCH: 354 LOSS: 0.004827682860195637\n",
            "EPOCH: 355 LOSS: 0.004780239891260862\n",
            "EPOCH: 356 LOSS: 0.004589945077896118\n",
            "EPOCH: 357 LOSS: 0.004712656140327454\n",
            "EPOCH: 358 LOSS: 0.004582576919347048\n",
            "EPOCH: 359 LOSS: 0.004657229408621788\n",
            "EPOCH: 360 LOSS: 0.005041853524744511\n",
            "EPOCH: 361 LOSS: 0.004826964344829321\n",
            "EPOCH: 362 LOSS: 0.004610051400959492\n",
            "EPOCH: 363 LOSS: 0.004584620241075754\n",
            "EPOCH: 364 LOSS: 0.00457391794770956\n",
            "EPOCH: 365 LOSS: 0.0046327426098287106\n",
            "EPOCH: 366 LOSS: 0.0048200530000030994\n",
            "EPOCH: 367 LOSS: 0.004821733571588993\n",
            "EPOCH: 368 LOSS: 0.004762180149555206\n",
            "EPOCH: 369 LOSS: 0.004894184414297342\n",
            "EPOCH: 370 LOSS: 0.004716350696980953\n",
            "EPOCH: 371 LOSS: 0.004683102015405893\n",
            "EPOCH: 372 LOSS: 0.004605041816830635\n",
            "EPOCH: 373 LOSS: 0.004386748652905226\n",
            "EPOCH: 374 LOSS: 0.004624616354703903\n",
            "EPOCH: 375 LOSS: 0.004605326801538467\n",
            "EPOCH: 376 LOSS: 0.004713611211627722\n",
            "EPOCH: 377 LOSS: 0.004387995693832636\n",
            "EPOCH: 378 LOSS: 0.004635832738131285\n",
            "EPOCH: 379 LOSS: 0.004394796676933765\n",
            "EPOCH: 380 LOSS: 0.004836141597479582\n",
            "EPOCH: 381 LOSS: 0.004777632653713226\n",
            "EPOCH: 382 LOSS: 0.004571761004626751\n",
            "EPOCH: 383 LOSS: 0.004521171562373638\n",
            "EPOCH: 384 LOSS: 0.004200451076030731\n",
            "EPOCH: 385 LOSS: 0.004497835412621498\n",
            "EPOCH: 386 LOSS: 0.004878883250057697\n",
            "EPOCH: 387 LOSS: 0.004765682853758335\n",
            "EPOCH: 388 LOSS: 0.00464880745857954\n",
            "EPOCH: 389 LOSS: 0.004728750791400671\n",
            "EPOCH: 390 LOSS: 0.0042028119787573814\n",
            "EPOCH: 391 LOSS: 0.005011939909309149\n",
            "EPOCH: 392 LOSS: 0.004961247090250254\n",
            "EPOCH: 393 LOSS: 0.004709677305072546\n",
            "EPOCH: 394 LOSS: 0.0045839836820960045\n",
            "EPOCH: 395 LOSS: 0.004773433320224285\n",
            "EPOCH: 396 LOSS: 0.004960715305060148\n",
            "EPOCH: 397 LOSS: 0.004945359658449888\n",
            "EPOCH: 398 LOSS: 0.005234440788626671\n",
            "EPOCH: 399 LOSS: 0.004355768673121929\n",
            "EPOCH: 400 LOSS: 0.004827126394957304\n",
            "EPOCH: 401 LOSS: 0.004835278261452913\n",
            "EPOCH: 402 LOSS: 0.004561624955385923\n",
            "EPOCH: 403 LOSS: 0.00470032449811697\n",
            "EPOCH: 404 LOSS: 0.004386103246361017\n",
            "EPOCH: 405 LOSS: 0.00455603189766407\n",
            "EPOCH: 406 LOSS: 0.004562235902994871\n",
            "EPOCH: 407 LOSS: 0.004512550309300423\n",
            "EPOCH: 408 LOSS: 0.00479158665984869\n",
            "EPOCH: 409 LOSS: 0.004365322180092335\n",
            "EPOCH: 410 LOSS: 0.004219419788569212\n",
            "EPOCH: 411 LOSS: 0.004594943951815367\n",
            "EPOCH: 412 LOSS: 0.004233613144606352\n",
            "EPOCH: 413 LOSS: 0.004681041464209557\n",
            "EPOCH: 414 LOSS: 0.004712682217359543\n",
            "EPOCH: 415 LOSS: 0.004847581032663584\n",
            "EPOCH: 416 LOSS: 0.004780805204063654\n",
            "EPOCH: 417 LOSS: 0.004870899952948093\n",
            "EPOCH: 418 LOSS: 0.004216532222926617\n",
            "EPOCH: 419 LOSS: 0.0047332290560007095\n",
            "EPOCH: 420 LOSS: 0.004737510811537504\n",
            "EPOCH: 421 LOSS: 0.004479303024709225\n",
            "EPOCH: 422 LOSS: 0.004953118972480297\n",
            "EPOCH: 423 LOSS: 0.004429773893207312\n",
            "EPOCH: 424 LOSS: 0.0046611204743385315\n",
            "EPOCH: 425 LOSS: 0.00454674381762743\n",
            "EPOCH: 426 LOSS: 0.0045325299724936485\n",
            "EPOCH: 427 LOSS: 0.00463309558108449\n",
            "EPOCH: 428 LOSS: 0.00463715847581625\n",
            "EPOCH: 429 LOSS: 0.004644901491701603\n",
            "EPOCH: 430 LOSS: 0.00484869908541441\n",
            "EPOCH: 431 LOSS: 0.004541235975921154\n",
            "EPOCH: 432 LOSS: 0.004549556411802769\n",
            "EPOCH: 433 LOSS: 0.004531832877546549\n",
            "EPOCH: 434 LOSS: 0.00472439406439662\n",
            "EPOCH: 435 LOSS: 0.00448457058519125\n",
            "EPOCH: 436 LOSS: 0.0046075498685240746\n",
            "EPOCH: 437 LOSS: 0.004319338593631983\n",
            "EPOCH: 438 LOSS: 0.004667808301746845\n",
            "EPOCH: 439 LOSS: 0.004594279918819666\n",
            "EPOCH: 440 LOSS: 0.004792037885636091\n",
            "EPOCH: 441 LOSS: 0.004765736870467663\n",
            "EPOCH: 442 LOSS: 0.00474576698616147\n",
            "EPOCH: 443 LOSS: 0.004581022541970015\n",
            "EPOCH: 444 LOSS: 0.0044576507061719894\n",
            "EPOCH: 445 LOSS: 0.00479319179430604\n",
            "EPOCH: 446 LOSS: 0.0045840004459023476\n",
            "EPOCH: 447 LOSS: 0.004652698989957571\n",
            "EPOCH: 448 LOSS: 0.004811616148799658\n",
            "EPOCH: 449 LOSS: 0.004641656763851643\n",
            "EPOCH: 450 LOSS: 0.004699504002928734\n",
            "EPOCH: 451 LOSS: 0.0043237172067165375\n",
            "EPOCH: 452 LOSS: 0.004495968110859394\n",
            "EPOCH: 453 LOSS: 0.004490213003009558\n",
            "EPOCH: 454 LOSS: 0.004461523145437241\n",
            "EPOCH: 455 LOSS: 0.004538259468972683\n",
            "EPOCH: 456 LOSS: 0.004699959885329008\n",
            "EPOCH: 457 LOSS: 0.004463071934878826\n",
            "EPOCH: 458 LOSS: 0.00491925235837698\n",
            "EPOCH: 459 LOSS: 0.004419933073222637\n",
            "EPOCH: 460 LOSS: 0.004674860741943121\n",
            "EPOCH: 461 LOSS: 0.005056553054600954\n",
            "EPOCH: 462 LOSS: 0.004525686614215374\n",
            "EPOCH: 463 LOSS: 0.004436788149178028\n",
            "EPOCH: 464 LOSS: 0.004451476037502289\n",
            "EPOCH: 465 LOSS: 0.004558123182505369\n",
            "EPOCH: 466 LOSS: 0.004564338829368353\n",
            "EPOCH: 467 LOSS: 0.0046222577802836895\n",
            "EPOCH: 468 LOSS: 0.004499579779803753\n",
            "EPOCH: 469 LOSS: 0.0043898820877075195\n",
            "EPOCH: 470 LOSS: 0.004478043876588345\n",
            "EPOCH: 471 LOSS: 0.004533946979790926\n",
            "EPOCH: 472 LOSS: 0.00423060916364193\n",
            "EPOCH: 473 LOSS: 0.004334056284278631\n",
            "EPOCH: 474 LOSS: 0.004423185251653194\n",
            "EPOCH: 475 LOSS: 0.0041975099593400955\n",
            "EPOCH: 476 LOSS: 0.0047774286940693855\n",
            "EPOCH: 477 LOSS: 0.004332265816628933\n",
            "EPOCH: 478 LOSS: 0.004141197074204683\n",
            "EPOCH: 479 LOSS: 0.004161643795669079\n",
            "EPOCH: 480 LOSS: 0.00468128127977252\n",
            "EPOCH: 481 LOSS: 0.004274452105164528\n",
            "EPOCH: 482 LOSS: 0.004431216511875391\n",
            "EPOCH: 483 LOSS: 0.004309965297579765\n",
            "EPOCH: 484 LOSS: 0.004033493809401989\n",
            "EPOCH: 485 LOSS: 0.004307496827095747\n",
            "EPOCH: 486 LOSS: 0.00470974063500762\n",
            "EPOCH: 487 LOSS: 0.0041716028936207294\n",
            "EPOCH: 488 LOSS: 0.00438649719581008\n",
            "EPOCH: 489 LOSS: 0.004386134911328554\n",
            "EPOCH: 490 LOSS: 0.004149931482970715\n",
            "EPOCH: 491 LOSS: 0.004213265608996153\n",
            "EPOCH: 492 LOSS: 0.00448018591850996\n",
            "EPOCH: 493 LOSS: 0.004097282886505127\n",
            "EPOCH: 494 LOSS: 0.004162647295743227\n",
            "EPOCH: 495 LOSS: 0.004098053555935621\n",
            "EPOCH: 496 LOSS: 0.0041280630975961685\n",
            "EPOCH: 497 LOSS: 0.003936367575079203\n",
            "EPOCH: 498 LOSS: 0.003945854492485523\n",
            "EPOCH: 499 LOSS: 0.004316468723118305\n"
          ],
          "name": "stdout"
        }
      ]
    },
    {
      "cell_type": "code",
      "metadata": {
        "id": "X379mqv0iIt5",
        "colab_type": "code",
        "outputId": "6fea5589-7952-4316-c483-4e355943d208",
        "colab": {
          "base_uri": "https://localhost:8080/",
          "height": 34
        }
      },
      "source": [
        "num_test_images = 16\n",
        "test_images = noise_images(mnist.test.images[:num_test_images])\n",
        "#test_images = mnist.test.images[:num_test_images]\n",
        "\n",
        "with tf.Session() as sess:\n",
        "    saver.restore(sess, \"./example_stacked_autoencoder.ckpt\")\n",
        "    results = output_flattened.eval(feed_dict={x:test_images})"
      ],
      "execution_count": 0,
      "outputs": [
        {
          "output_type": "stream",
          "text": [
            "INFO:tensorflow:Restoring parameters from ./example_stacked_autoencoder.ckpt\n"
          ],
          "name": "stdout"
        }
      ]
    },
    {
      "cell_type": "code",
      "metadata": {
        "id": "4ba0qGodiIt9",
        "colab_type": "code",
        "outputId": "2115ff1b-bd9f-4b85-fc28-5ca476452157",
        "colab": {
          "base_uri": "https://localhost:8080/",
          "height": 281
        }
      },
      "source": [
        "# Compare original images with their reconstructions\n",
        "f, a = plt.subplots(3,16, figsize=(20,4))\n",
        "print(len(results))\n",
        "for i in range(num_test_images):\n",
        "    a[0][i].imshow(np.reshape(mnist.test.images[i], (28,28))) # Original\n",
        "    a[1][i].imshow(np.reshape(test_images[i], (28,28))) # noised\n",
        "    a[2][i].imshow(np.reshape(results[i], (28,28))) # output"
      ],
      "execution_count": 0,
      "outputs": [
        {
          "output_type": "stream",
          "text": [
            "16\n"
          ],
          "name": "stdout"
        },
        {
          "output_type": "display_data",
          "data": {
            "image/png": "[encoded data removed]",
            "text/plain": [
              "<Figure size 1440x288 with 48 Axes>"
            ]
          },
          "metadata": {
            "tags": []
          }
        }
      ]
    },
    {
      "cell_type": "markdown",
      "metadata": {
        "id": "QTtzebd5pd0P",
        "colab_type": "text"
      },
      "source": [
        "The surrounding area around the digit is quite a bit brighter than on the original image. The model has been overfitted and clearly have run for more epochs than needed. We can make it better!"
      ]
    },
    {
      "cell_type": "markdown",
      "metadata": {
        "id": "dtQxaDvvm7My",
        "colab_type": "text"
      },
      "source": [
        "# Try to get better performance using what exactly?\n"
      ]
    },
    {
      "cell_type": "code",
      "metadata": {
        "id": "5c5tR-JanGiK",
        "colab_type": "code",
        "colab": {}
      },
      "source": [
        "def run_network(num_epochs = 200):\n",
        "  # init session \n",
        "  with tf.Session() as sess:\n",
        "      sess.run(init)\n",
        "      #run for epochs: num_epochs\n",
        "      for epoch in range(num_epochs):\n",
        "          num_batches = mnist.train.num_examples # batch_size\n",
        "          \n",
        "          #run for number of iterations\n",
        "          for iteration in range(num_batches):\n",
        "              # get the next batch form the build in tensorflow datasets\n",
        "              X_batch, y_batch = mnist.train.next_batch(batch_size)\n",
        "              #sess.run(train, feed_dict = {x:X_batch}) #training on clean data\n",
        "              X_noisy_batch = noise_images(X_batch) # training on noisy data\n",
        "              sess.run(train, feed_dict = {x:X_noisy_batch}) # training on noisy data\n",
        "              \n",
        "          # compare with the original (or not) images    \n",
        "          training_loss = loss.eval(feed_dict={x:X_batch})\n",
        "\n",
        "          print(\"EPOCH: {} LOSS: {}\".format(epoch, training_loss))\n",
        "\n",
        "      saver.save(sess, \"./example_stacked_autoencoder.ckpt\")"
      ],
      "execution_count": 0,
      "outputs": []
    },
    {
      "cell_type": "code",
      "metadata": {
        "id": "tcyBTcDBtP6r",
        "colab_type": "code",
        "colab": {
          "base_uri": "https://localhost:8080/",
          "height": 400
        },
        "outputId": "97389971-462f-48a9-992d-9db10424742d"
      },
      "source": [
        "# For better debugging\n",
        "# tf.tf.enable_eager_execution()\n",
        "\n",
        "tf.reset_default_graph() # clear the graph from variables\n",
        "\n",
        "# And this is where we actually create the new Conv neural network!\n",
        "# Paceholder\n",
        "\n",
        "# Layers\n",
        "x_image = tf.reshape(x,[-1,28,28,1])\n",
        "x.get_shape()\n",
        "# CREATING LAYERS\n",
        "\n",
        "# first convolution with 5x5 filter and pooling. Feature image size: 14x14\n",
        "# num of features 32\n",
        "n = convolutional_layer(x_image,shape=[5,5,1,32])\n",
        "n = max_pool_2by2(n)\n",
        "n.get_shape()\n",
        "\n",
        "# second convolution and pooling. Feature image size: 7x7\n",
        "# num of features 64\n",
        "n = convolutional_layer(n, shape=[5,5,32,64])\n",
        "n = max_pool_2by2(n)\n",
        "n.get_shape()\n",
        "\n",
        "# upsampling. Feature image size: 14x14\n",
        "# num of features 32\n",
        "n = deconv2d(n, [batch_size,14,14,32], \"deconv2d_layer1\")\n",
        "n.get_shape()\n",
        "\n",
        "# upsampling. Feature image size: 28x28\n",
        "# num of features 1\n",
        "n = deconv2d(n, [batch_size,28,28,1], \"deconv2d_layer2\")\n",
        "n.get_shape() # debug\n",
        "\n",
        "output_flattened = tf.reshape(n, [-1,28*28*1])\n",
        "output_flattened.get_shape() # debug\n",
        "\n",
        "# Setting some learning rate\n",
        "learning_rate = 0.001\n",
        "\n",
        "# loss function\n",
        "loss = tf.reduce_mean(tf.square(output_flattened-x))\n",
        "# Optimizer\n",
        "optimizer = tf.train.AdamOptimizer(learning_rate)\n",
        "\n",
        "# Train, or in other words\n",
        "# use the optimizer to minimize the loss function\n",
        "train = optimizer.minimize(loss)\n",
        "\n",
        "init = tf.global_variables_initializer()\n",
        "\n",
        "# init the saver for the model\n",
        "saver = tf.train.Saver()\n",
        "\n",
        "run_network()"
      ],
      "execution_count": 36,
      "outputs": [
        {
          "output_type": "error",
          "ename": "ValueError",
          "evalue": "ignored",
          "traceback": [
            "\u001b[0;31m---------------------------------------------------------------------------\u001b[0m",
            "\u001b[0;31mValueError\u001b[0m                                Traceback (most recent call last)",
            "\u001b[0;32m<ipython-input-36-9ac9ef3a7307>\u001b[0m in \u001b[0;36m<module>\u001b[0;34m()\u001b[0m\n\u001b[1;32m     12\u001b[0m \u001b[0;31m# first convolution with 5x5 filter and pooling. Feature image size: 14x14\u001b[0m\u001b[0;34m\u001b[0m\u001b[0;34m\u001b[0m\u001b[0;34m\u001b[0m\u001b[0m\n\u001b[1;32m     13\u001b[0m \u001b[0;31m# num of features 32\u001b[0m\u001b[0;34m\u001b[0m\u001b[0;34m\u001b[0m\u001b[0;34m\u001b[0m\u001b[0m\n\u001b[0;32m---> 14\u001b[0;31m \u001b[0mn\u001b[0m \u001b[0;34m=\u001b[0m \u001b[0mconvolutional_layer\u001b[0m\u001b[0;34m(\u001b[0m\u001b[0mx_image\u001b[0m\u001b[0;34m,\u001b[0m\u001b[0mshape\u001b[0m\u001b[0;34m=\u001b[0m\u001b[0;34m[\u001b[0m\u001b[0;36m5\u001b[0m\u001b[0;34m,\u001b[0m\u001b[0;36m5\u001b[0m\u001b[0;34m,\u001b[0m\u001b[0;36m1\u001b[0m\u001b[0;34m,\u001b[0m\u001b[0;36m32\u001b[0m\u001b[0;34m]\u001b[0m\u001b[0;34m)\u001b[0m\u001b[0;34m\u001b[0m\u001b[0;34m\u001b[0m\u001b[0m\n\u001b[0m\u001b[1;32m     15\u001b[0m \u001b[0mn\u001b[0m \u001b[0;34m=\u001b[0m \u001b[0mmax_pool_2by2\u001b[0m\u001b[0;34m(\u001b[0m\u001b[0mn\u001b[0m\u001b[0;34m)\u001b[0m\u001b[0;34m\u001b[0m\u001b[0;34m\u001b[0m\u001b[0m\n\u001b[1;32m     16\u001b[0m \u001b[0mn\u001b[0m\u001b[0;34m.\u001b[0m\u001b[0mget_shape\u001b[0m\u001b[0;34m(\u001b[0m\u001b[0;34m)\u001b[0m\u001b[0;34m\u001b[0m\u001b[0;34m\u001b[0m\u001b[0m\n",
            "\u001b[0;32m<ipython-input-13-3cc099b126ed>\u001b[0m in \u001b[0;36mconvolutional_layer\u001b[0;34m(input_x, shape)\u001b[0m\n\u001b[1;32m      2\u001b[0m     \u001b[0mW\u001b[0m \u001b[0;34m=\u001b[0m \u001b[0minit_weights\u001b[0m\u001b[0;34m(\u001b[0m\u001b[0mshape\u001b[0m\u001b[0;34m)\u001b[0m\u001b[0;34m\u001b[0m\u001b[0;34m\u001b[0m\u001b[0m\n\u001b[1;32m      3\u001b[0m     \u001b[0mb\u001b[0m \u001b[0;34m=\u001b[0m \u001b[0minit_bias\u001b[0m\u001b[0;34m(\u001b[0m\u001b[0;34m[\u001b[0m\u001b[0mshape\u001b[0m\u001b[0;34m[\u001b[0m\u001b[0;36m3\u001b[0m\u001b[0;34m]\u001b[0m\u001b[0;34m]\u001b[0m\u001b[0;34m)\u001b[0m\u001b[0;34m\u001b[0m\u001b[0;34m\u001b[0m\u001b[0m\n\u001b[0;32m----> 4\u001b[0;31m     \u001b[0;32mreturn\u001b[0m \u001b[0mtf\u001b[0m\u001b[0;34m.\u001b[0m\u001b[0mnn\u001b[0m\u001b[0;34m.\u001b[0m\u001b[0mrelu\u001b[0m\u001b[0;34m(\u001b[0m\u001b[0mtf\u001b[0m\u001b[0;34m.\u001b[0m\u001b[0madd\u001b[0m\u001b[0;34m(\u001b[0m\u001b[0mconv2d\u001b[0m\u001b[0;34m(\u001b[0m\u001b[0minput_x\u001b[0m\u001b[0;34m,\u001b[0m\u001b[0mW\u001b[0m\u001b[0;34m)\u001b[0m\u001b[0;34m,\u001b[0m\u001b[0mb\u001b[0m\u001b[0;34m)\u001b[0m\u001b[0;34m)\u001b[0m\u001b[0;34m\u001b[0m\u001b[0;34m\u001b[0m\u001b[0m\n\u001b[0m",
            "\u001b[0;32m<ipython-input-11-f681ba0a4c54>\u001b[0m in \u001b[0;36mconv2d\u001b[0;34m(x, W)\u001b[0m\n\u001b[1;32m      3\u001b[0m     \u001b[0;31m# W --> [filter Height, filter Width, Channels In, Channels Out]\u001b[0m\u001b[0;34m\u001b[0m\u001b[0;34m\u001b[0m\u001b[0;34m\u001b[0m\u001b[0m\n\u001b[1;32m      4\u001b[0m     \u001b[0;31m# this is a kind of a wrapper around the standard tensorflow function\u001b[0m\u001b[0;34m\u001b[0m\u001b[0;34m\u001b[0m\u001b[0;34m\u001b[0m\u001b[0m\n\u001b[0;32m----> 5\u001b[0;31m     \u001b[0;32mreturn\u001b[0m \u001b[0mtf\u001b[0m\u001b[0;34m.\u001b[0m\u001b[0mnn\u001b[0m\u001b[0;34m.\u001b[0m\u001b[0mconv2d\u001b[0m\u001b[0;34m(\u001b[0m\u001b[0mx\u001b[0m\u001b[0;34m,\u001b[0m\u001b[0mW\u001b[0m\u001b[0;34m,\u001b[0m\u001b[0mstrides\u001b[0m\u001b[0;34m=\u001b[0m\u001b[0;34m[\u001b[0m\u001b[0;36m1\u001b[0m\u001b[0;34m,\u001b[0m\u001b[0;36m1\u001b[0m\u001b[0;34m,\u001b[0m\u001b[0;36m1\u001b[0m\u001b[0;34m,\u001b[0m\u001b[0;36m1\u001b[0m\u001b[0;34m]\u001b[0m\u001b[0;34m,\u001b[0m \u001b[0mpadding\u001b[0m \u001b[0;34m=\u001b[0m \u001b[0;34m\"SAME\"\u001b[0m\u001b[0;34m)\u001b[0m \u001b[0;31m#padding, one is valid and one is same\u001b[0m\u001b[0;34m\u001b[0m\u001b[0;34m\u001b[0m\u001b[0m\n\u001b[0m",
            "\u001b[0;32m/usr/local/lib/python3.6/dist-packages/tensorflow_core/python/ops/nn_ops.py\u001b[0m in \u001b[0;36mconv2d\u001b[0;34m(input, filter, strides, padding, use_cudnn_on_gpu, data_format, dilations, name, filters)\u001b[0m\n\u001b[1;32m   2008\u001b[0m                            \u001b[0mdata_format\u001b[0m\u001b[0;34m=\u001b[0m\u001b[0mdata_format\u001b[0m\u001b[0;34m,\u001b[0m\u001b[0;34m\u001b[0m\u001b[0;34m\u001b[0m\u001b[0m\n\u001b[1;32m   2009\u001b[0m                            \u001b[0mdilations\u001b[0m\u001b[0;34m=\u001b[0m\u001b[0mdilations\u001b[0m\u001b[0;34m,\u001b[0m\u001b[0;34m\u001b[0m\u001b[0;34m\u001b[0m\u001b[0m\n\u001b[0;32m-> 2010\u001b[0;31m                            name=name)\n\u001b[0m\u001b[1;32m   2011\u001b[0m \u001b[0;34m\u001b[0m\u001b[0m\n\u001b[1;32m   2012\u001b[0m \u001b[0;34m\u001b[0m\u001b[0m\n",
            "\u001b[0;32m/usr/local/lib/python3.6/dist-packages/tensorflow_core/python/ops/gen_nn_ops.py\u001b[0m in \u001b[0;36mconv2d\u001b[0;34m(input, filter, strides, padding, use_cudnn_on_gpu, explicit_paddings, data_format, dilations, name)\u001b[0m\n\u001b[1;32m   1069\u001b[0m                   \u001b[0mpadding\u001b[0m\u001b[0;34m=\u001b[0m\u001b[0mpadding\u001b[0m\u001b[0;34m,\u001b[0m \u001b[0muse_cudnn_on_gpu\u001b[0m\u001b[0;34m=\u001b[0m\u001b[0muse_cudnn_on_gpu\u001b[0m\u001b[0;34m,\u001b[0m\u001b[0;34m\u001b[0m\u001b[0;34m\u001b[0m\u001b[0m\n\u001b[1;32m   1070\u001b[0m                   \u001b[0mexplicit_paddings\u001b[0m\u001b[0;34m=\u001b[0m\u001b[0mexplicit_paddings\u001b[0m\u001b[0;34m,\u001b[0m\u001b[0;34m\u001b[0m\u001b[0;34m\u001b[0m\u001b[0m\n\u001b[0;32m-> 1071\u001b[0;31m                   data_format=data_format, dilations=dilations, name=name)\n\u001b[0m\u001b[1;32m   1072\u001b[0m   \u001b[0m_result\u001b[0m \u001b[0;34m=\u001b[0m \u001b[0m_op\u001b[0m\u001b[0;34m.\u001b[0m\u001b[0moutputs\u001b[0m\u001b[0;34m[\u001b[0m\u001b[0;34m:\u001b[0m\u001b[0;34m]\u001b[0m\u001b[0;34m\u001b[0m\u001b[0;34m\u001b[0m\u001b[0m\n\u001b[1;32m   1073\u001b[0m   \u001b[0m_inputs_flat\u001b[0m \u001b[0;34m=\u001b[0m \u001b[0m_op\u001b[0m\u001b[0;34m.\u001b[0m\u001b[0minputs\u001b[0m\u001b[0;34m\u001b[0m\u001b[0;34m\u001b[0m\u001b[0m\n",
            "\u001b[0;32m/usr/local/lib/python3.6/dist-packages/tensorflow_core/python/framework/op_def_library.py\u001b[0m in \u001b[0;36m_apply_op_helper\u001b[0;34m(self, op_type_name, name, **keywords)\u001b[0m\n\u001b[1;32m    365\u001b[0m       \u001b[0;31m# Need to flatten all the arguments into a list.\u001b[0m\u001b[0;34m\u001b[0m\u001b[0;34m\u001b[0m\u001b[0;34m\u001b[0m\u001b[0m\n\u001b[1;32m    366\u001b[0m       \u001b[0;31m# pylint: disable=protected-access\u001b[0m\u001b[0;34m\u001b[0m\u001b[0;34m\u001b[0m\u001b[0;34m\u001b[0m\u001b[0m\n\u001b[0;32m--> 367\u001b[0;31m       \u001b[0mg\u001b[0m \u001b[0;34m=\u001b[0m \u001b[0mops\u001b[0m\u001b[0;34m.\u001b[0m\u001b[0m_get_graph_from_inputs\u001b[0m\u001b[0;34m(\u001b[0m\u001b[0m_Flatten\u001b[0m\u001b[0;34m(\u001b[0m\u001b[0mkeywords\u001b[0m\u001b[0;34m.\u001b[0m\u001b[0mvalues\u001b[0m\u001b[0;34m(\u001b[0m\u001b[0;34m)\u001b[0m\u001b[0;34m)\u001b[0m\u001b[0;34m)\u001b[0m\u001b[0;34m\u001b[0m\u001b[0;34m\u001b[0m\u001b[0m\n\u001b[0m\u001b[1;32m    368\u001b[0m       \u001b[0;31m# pylint: enable=protected-access\u001b[0m\u001b[0;34m\u001b[0m\u001b[0;34m\u001b[0m\u001b[0;34m\u001b[0m\u001b[0m\n\u001b[1;32m    369\u001b[0m     \u001b[0;32mexcept\u001b[0m \u001b[0mAssertionError\u001b[0m \u001b[0;32mas\u001b[0m \u001b[0me\u001b[0m\u001b[0;34m:\u001b[0m\u001b[0;34m\u001b[0m\u001b[0;34m\u001b[0m\u001b[0m\n",
            "\u001b[0;32m/usr/local/lib/python3.6/dist-packages/tensorflow_core/python/framework/ops.py\u001b[0m in \u001b[0;36m_get_graph_from_inputs\u001b[0;34m(op_input_list, graph)\u001b[0m\n\u001b[1;32m   5977\u001b[0m         \u001b[0mgraph\u001b[0m \u001b[0;34m=\u001b[0m \u001b[0mgraph_element\u001b[0m\u001b[0;34m.\u001b[0m\u001b[0mgraph\u001b[0m\u001b[0;34m\u001b[0m\u001b[0;34m\u001b[0m\u001b[0m\n\u001b[1;32m   5978\u001b[0m       \u001b[0;32melif\u001b[0m \u001b[0moriginal_graph_element\u001b[0m \u001b[0;32mis\u001b[0m \u001b[0;32mnot\u001b[0m \u001b[0;32mNone\u001b[0m\u001b[0;34m:\u001b[0m\u001b[0;34m\u001b[0m\u001b[0;34m\u001b[0m\u001b[0m\n\u001b[0;32m-> 5979\u001b[0;31m         \u001b[0m_assert_same_graph\u001b[0m\u001b[0;34m(\u001b[0m\u001b[0moriginal_graph_element\u001b[0m\u001b[0;34m,\u001b[0m \u001b[0mgraph_element\u001b[0m\u001b[0;34m)\u001b[0m\u001b[0;34m\u001b[0m\u001b[0;34m\u001b[0m\u001b[0m\n\u001b[0m\u001b[1;32m   5980\u001b[0m       \u001b[0;32melif\u001b[0m \u001b[0mgraph_element\u001b[0m\u001b[0;34m.\u001b[0m\u001b[0mgraph\u001b[0m \u001b[0;32mis\u001b[0m \u001b[0;32mnot\u001b[0m \u001b[0mgraph\u001b[0m\u001b[0;34m:\u001b[0m\u001b[0;34m\u001b[0m\u001b[0;34m\u001b[0m\u001b[0m\n\u001b[1;32m   5981\u001b[0m         \u001b[0;32mraise\u001b[0m \u001b[0mValueError\u001b[0m\u001b[0;34m(\u001b[0m\u001b[0;34m\"%s is not from the passed-in graph.\"\u001b[0m \u001b[0;34m%\u001b[0m \u001b[0mgraph_element\u001b[0m\u001b[0;34m)\u001b[0m\u001b[0;34m\u001b[0m\u001b[0;34m\u001b[0m\u001b[0m\n",
            "\u001b[0;32m/usr/local/lib/python3.6/dist-packages/tensorflow_core/python/framework/ops.py\u001b[0m in \u001b[0;36m_assert_same_graph\u001b[0;34m(original_item, item)\u001b[0m\n\u001b[1;32m   5912\u001b[0m   \u001b[0;32mif\u001b[0m \u001b[0moriginal_item\u001b[0m\u001b[0;34m.\u001b[0m\u001b[0mgraph\u001b[0m \u001b[0;32mis\u001b[0m \u001b[0;32mnot\u001b[0m \u001b[0mitem\u001b[0m\u001b[0;34m.\u001b[0m\u001b[0mgraph\u001b[0m\u001b[0;34m:\u001b[0m\u001b[0;34m\u001b[0m\u001b[0;34m\u001b[0m\u001b[0m\n\u001b[1;32m   5913\u001b[0m     raise ValueError(\"%s must be from the same graph as %s.\" %\n\u001b[0;32m-> 5914\u001b[0;31m                      (item, original_item))\n\u001b[0m\u001b[1;32m   5915\u001b[0m \u001b[0;34m\u001b[0m\u001b[0m\n\u001b[1;32m   5916\u001b[0m \u001b[0;34m\u001b[0m\u001b[0m\n",
            "\u001b[0;31mValueError\u001b[0m: Tensor(\"Variable:0\", shape=(5, 5, 1, 32), dtype=float32_ref) must be from the same graph as Tensor(\"Reshape_7:0\", shape=(?, 28, 28, 1), dtype=float32)."
          ]
        }
      ]
    },
    {
      "cell_type": "code",
      "metadata": {
        "id": "ScGRO4JZxb-u",
        "colab_type": "code",
        "colab": {}
      },
      "source": [
        ""
      ],
      "execution_count": 0,
      "outputs": []
    }
  ]
}